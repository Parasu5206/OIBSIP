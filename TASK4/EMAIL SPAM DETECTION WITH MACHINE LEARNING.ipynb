{
 "cells": [
  {
   "cell_type": "markdown",
   "id": "8bad7c19-240d-4ad6-9f75-1f1913ffe158",
   "metadata": {},
   "source": [
    "## EMAIL SPAM DETECTION WITH MACHINE LEARNING"
   ]
  },
  {
   "cell_type": "markdown",
   "id": "9a091653-84eb-4da6-9bd1-06eee8d651ef",
   "metadata": {},
   "source": [
    "## Introduction\n",
    "Email spam detection is a common application of machine learning and natural language processing (NLP). The goal of this project is to build a model that can classify emails as either spam or ham (not spam). We'll use a dataset containing labeled email data to train a machine learning model and then evaluate its performance."
   ]
  },
  {
   "cell_type": "markdown",
   "id": "1e0ba22d-2b70-44b8-992e-a2c2cf7f1aa9",
   "metadata": {},
   "source": [
    "## Import Necessary Libraries\n",
    "We begin by importing the required libraries for data manipulation, visualization, and model building."
   ]
  },
  {
   "cell_type": "code",
   "execution_count": 1,
   "id": "f63a55fe-7d12-477d-ae7f-eab6a740062c",
   "metadata": {},
   "outputs": [],
   "source": [
    "import pandas as pd\n",
    "import numpy as np\n",
    "import matplotlib.pyplot as plt\n",
    "import seaborn as sns\n",
    "from sklearn.model_selection import train_test_split\n",
    "from sklearn.feature_extraction.text import CountVectorizer\n",
    "from sklearn.naive_bayes import MultinomialNB\n",
    "from sklearn.metrics import accuracy_score, classification_report, confusion_matrix\n"
   ]
  },
  {
   "cell_type": "markdown",
   "id": "f9eefecd-2f98-42ce-b960-118a6f743cc4",
   "metadata": {},
   "source": [
    "## Load and Inspect Data\n",
    "We load the dataset and inspect its structure to understand the data we're working with."
   ]
  },
  {
   "cell_type": "code",
   "execution_count": 5,
   "id": "3bd040ea-b8c4-4910-b798-731d6d6327e1",
   "metadata": {},
   "outputs": [
    {
     "name": "stdout",
     "output_type": "stream",
     "text": [
      "     v1                                                 v2 Unnamed: 2  \\\n",
      "0   ham  Go until jurong point, crazy.. Available only ...        NaN   \n",
      "1   ham                      Ok lar... Joking wif u oni...        NaN   \n",
      "2  spam  Free entry in 2 a wkly comp to win FA Cup fina...        NaN   \n",
      "3   ham  U dun say so early hor... U c already then say...        NaN   \n",
      "4   ham  Nah I don't think he goes to usf, he lives aro...        NaN   \n",
      "\n",
      "  Unnamed: 3 Unnamed: 4  \n",
      "0        NaN        NaN  \n",
      "1        NaN        NaN  \n",
      "2        NaN        NaN  \n",
      "3        NaN        NaN  \n",
      "4        NaN        NaN  \n",
      "<class 'pandas.core.frame.DataFrame'>\n",
      "RangeIndex: 5572 entries, 0 to 5571\n",
      "Data columns (total 5 columns):\n",
      " #   Column      Non-Null Count  Dtype \n",
      "---  ------      --------------  ----- \n",
      " 0   v1          5572 non-null   object\n",
      " 1   v2          5572 non-null   object\n",
      " 2   Unnamed: 2  50 non-null     object\n",
      " 3   Unnamed: 3  12 non-null     object\n",
      " 4   Unnamed: 4  6 non-null      object\n",
      "dtypes: object(5)\n",
      "memory usage: 217.8+ KB\n",
      "None\n",
      "          v1                      v2  \\\n",
      "count   5572                    5572   \n",
      "unique     2                    5169   \n",
      "top      ham  Sorry, I'll call later   \n",
      "freq    4825                      30   \n",
      "\n",
      "                                               Unnamed: 2  \\\n",
      "count                                                  50   \n",
      "unique                                                 43   \n",
      "top      bt not his girlfrnd... G o o d n i g h t . . .@\"   \n",
      "freq                                                    3   \n",
      "\n",
      "                   Unnamed: 3 Unnamed: 4  \n",
      "count                      12          6  \n",
      "unique                     10          5  \n",
      "top      MK17 92H. 450Ppw 16\"    GNT:-)\"  \n",
      "freq                        2          2  \n"
     ]
    }
   ],
   "source": [
    "# Load the dataset\n",
    "df = pd.read_csv(r\"C:\\Users\\mpara\\Intern Projects\\spam.csv\", encoding='latin-1')\n",
    "\n",
    "# Display the first few rows\n",
    "print(df.head())\n",
    "\n",
    "# Display basic dataset information\n",
    "print(df.info())\n",
    "print(df.describe())\n"
   ]
  },
  {
   "cell_type": "markdown",
   "id": "5d262c45-3782-42d0-a52c-31f402764232",
   "metadata": {},
   "source": [
    "## Data Preprocessing\n",
    "We preprocess the data by selecting relevant columns, encoding labels, and handling missing values."
   ]
  },
  {
   "cell_type": "code",
   "execution_count": 6,
   "id": "2b6347c7-1d45-43b2-a745-fb8f3b957cc2",
   "metadata": {},
   "outputs": [
    {
     "name": "stdout",
     "output_type": "stream",
     "text": [
      "label    0\n",
      "text     0\n",
      "dtype: int64\n"
     ]
    },
    {
     "data": {
      "image/png": "[encoded data removed]",
      "text/plain": [
       "<Figure size 640x480 with 1 Axes>"
      ]
     },
     "metadata": {},
     "output_type": "display_data"
    }
   ],
   "source": [
    "# Keep only necessary columns\n",
    "df = df[['v1', 'v2']]\n",
    "df.columns = ['label', 'text']\n",
    "\n",
    "# Encode labels: ham -> 0, spam -> 1\n",
    "df['label'] = df['label'].map({'ham': 0, 'spam': 1})\n",
    "\n",
    "# Check for missing values\n",
    "print(df.isnull().sum())\n",
    "\n",
    "# Display the distribution of labels\n",
    "sns.countplot(df['label'])\n",
    "plt.title('Distribution of Spam and Ham Emails')\n",
    "plt.show()\n"
   ]
  },
  {
   "cell_type": "markdown",
   "id": "312ab0eb-2e6d-4b7b-b03d-541579bde41f",
   "metadata": {},
   "source": [
    "## Feature Extraction\n",
    "We extract features from the text data using the CountVectorizer to convert the text into numerical features.\n",
    "\n",
    "python"
   ]
  },
  {
   "cell_type": "code",
   "execution_count": 7,
   "id": "2b33a8d2-215f-4574-8606-77c8515b0f36",
   "metadata": {},
   "outputs": [],
   "source": [
    "# Split the data into training and testing sets\n",
    "X_train, X_test, y_train, y_test = train_test_split(df['text'], df['label'], test_size=0.2, random_state=42)\n",
    "\n",
    "# Initialize the CountVectorizer\n",
    "vectorizer = CountVectorizer()\n",
    "\n",
    "# Fit and transform the training data\n",
    "X_train_vec = vectorizer.fit_transform(X_train)\n",
    "\n",
    "# Transform the testing data\n",
    "X_test_vec = vectorizer.transform(X_test)\n"
   ]
  },
  {
   "cell_type": "markdown",
   "id": "3e4b70ae-7733-433e-b3d3-d6d507d3fd20",
   "metadata": {},
   "source": [
    "## Model Training and Evaluation\n",
    "We train a Naive Bayes classifier model and evaluate its performance using accuracy, classification report, and confusion matrix."
   ]
  },
  {
   "cell_type": "code",
   "execution_count": 8,
   "id": "6d2ce288-6991-476e-b973-dbe94fc81032",
   "metadata": {},
   "outputs": [
    {
     "name": "stdout",
     "output_type": "stream",
     "text": [
      "Accuracy: 0.98\n",
      "              precision    recall  f1-score   support\n",
      "\n",
      "           0       0.98      1.00      0.99       965\n",
      "           1       0.99      0.89      0.94       150\n",
      "\n",
      "    accuracy                           0.98      1115\n",
      "   macro avg       0.98      0.95      0.96      1115\n",
      "weighted avg       0.98      0.98      0.98      1115\n",
      "\n"
     ]
    },
    {
     "data": {
      "image/png": "[encoded data removed]",
      "text/plain": [
       "<Figure size 640x480 with 2 Axes>"
      ]
     },
     "metadata": {},
     "output_type": "display_data"
    }
   ],
   "source": [
    "# Initialize the model\n",
    "model = MultinomialNB()\n",
    "\n",
    "# Train the model\n",
    "model.fit(X_train_vec, y_train)\n",
    "\n",
    "# Make predictions on the test set\n",
    "y_pred = model.predict(X_test_vec)\n",
    "\n",
    "# Evaluate the model\n",
    "accuracy = accuracy_score(y_test, y_pred)\n",
    "print(f'Accuracy: {accuracy:.2f}')\n",
    "\n",
    "# Display the classification report\n",
    "print(classification_report(y_test, y_pred))\n",
    "\n",
    "# Display the confusion matrix\n",
    "conf_matrix = confusion_matrix(y_test, y_pred)\n",
    "sns.heatmap(conf_matrix, annot=True, fmt='d', cmap='Blues')\n",
    "plt.title('Confusion Matrix')\n",
    "plt.xlabel('Predicted')\n",
    "plt.ylabel('Actual')\n",
    "plt.show()\n"
   ]
  },
  {
   "cell_type": "markdown",
   "id": "bff70b8f-99f8-4edb-bf38-d8ab25609fc5",
   "metadata": {},
   "source": [
    "## Model Testing\n",
    "We can test the trained model on new email samples to see how it performs."
   ]
  },
  {
   "cell_type": "code",
   "execution_count": 13,
   "id": "326b2289-ead2-47f0-941b-5dff0d2bf693",
   "metadata": {},
   "outputs": [],
   "source": [
    "# Define new email samples\n",
    "new_emails = [ \"\"\"Dear user, Congratulations! You have been selected as the lucky winner of a $1,000 gift card. To claim your prize, please click on the link below and fill out the necessary details. [Claim your gift card now](http://fakeurl.com) Hurry! This offer is valid for a limited time only. Best regards, The Rewards Team\"\"\",\n",
    "\n",
    "              \"Can we schedule a meeting for tomorrow to discuss the project updates?\"]\n",
    "\n"
   ]
  },
  {
   "cell_type": "code",
   "execution_count": 14,
   "id": "02d8f8ce-9fae-4006-9671-e2b70c539e37",
   "metadata": {},
   "outputs": [
    {
     "name": "stdout",
     "output_type": "stream",
     "text": [
      "Email: \"Dear user, Congratulations! You have been selected as the lucky winner of a $1,000 gift card. To claim your prize, please click on the link below and fill out the necessary details. [Claim your gift card now](http://fakeurl.com) Hurry! This offer is valid for a limited time only. Best regards, The Rewards Team\" -> Prediction: Spam\n",
      "Email: \"Can we schedule a meeting for tomorrow to discuss the project updates?\" -> Prediction: Ham\n"
     ]
    }
   ],
   "source": [
    "# Transform the new email samples\n",
    "new_emails_vec = vectorizer.transform(new_emails)\n",
    "\n",
    "# Predict the labels\n",
    "predictions = model.predict(new_emails_vec)\n",
    "\n",
    "# Display the predictions\n",
    "for email, label in zip(new_emails, predictions):\n",
    "    print(f'Email: \"{email}\" -> Prediction: {\"Spam\" if label == 1 else \"Ham\"}')\n"
   ]
  },
  {
   "cell_type": "code",
   "execution_count": null,
   "id": "83a6749f-aed5-4037-87c5-f4d5ec12efde",
   "metadata": {},
   "outputs": [],
   "source": []
  }
 ],
 "metadata": {
  "kernelspec": {
   "display_name": "Python 3 (ipykernel)",
   "language": "python",
   "name": "python3"
  },
  "language_info": {
   "codemirror_mode": {
    "name": "ipython",
    "version": 3
   },
   "file_extension": ".py",
   "mimetype": "text/x-python",
   "name": "python",
   "nbconvert_exporter": "python",
   "pygments_lexer": "ipython3",
   "version": "3.12.3"
  }
 },
 "nbformat": 4,
 "nbformat_minor": 5
}
